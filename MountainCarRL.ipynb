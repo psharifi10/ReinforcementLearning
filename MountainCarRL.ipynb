{
  "nbformat": 4,
  "nbformat_minor": 0,
  "metadata": {
    "colab": {
      "name": "assignment3-pooyansharifi.ipynb",
      "provenance": [],
      "collapsed_sections": [],
      "toc_visible": true
    },
    "kernelspec": {
      "name": "python3",
      "display_name": "Python 3"
    }
  },
  "cells": [
    {
      "cell_type": "markdown",
      "metadata": {
        "id": "X6DLqhMHzlQJ"
      },
      "source": [
        "#Import Gym Environment - Mountain Car v0\n",
        "\n",
        "A car is on a one-dimensional track, positioned between two \"mountains\". The goal is to drive up the mountain on the right; however, the car's engine is not strong enough to scale the mountain in a single pass. Therefore, the only way to succeed is to drive back and forth to build up momentum.\n",
        "\n",
        "We'll try to solve this using an off-policy MC control algorithm where b is the off policy (epsilon soft of pi) and pi is a greedy policy. \n",
        "\n",
        "![image.png](data:image/png;base64,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)\n",
        "\n",
        "\n"
      ]
    },
    {
      "cell_type": "markdown",
      "metadata": {
        "id": "JKqajF7rmJi0"
      },
      "source": [
        "**Obersvations :**\n",
        "\n",
        "0 : position [-1.2,0.6]\n",
        "\n",
        "1 : velocity [-0.07,0.07]\n",
        "\n",
        "**Action:**\n",
        "\n",
        "0: push left\n",
        "\n",
        "1: no push\n",
        "\n",
        "2: push right\n",
        "\n",
        "**Reward:**\n",
        "\n",
        "-1 for each time step, until the goal position of 0.5 is reached. As with MountainCarContinuous v0, there is no penalty for climbing the left hill, which upon reaching the end (-1.2) acts as a wall.\n",
        "\n",
        "**Starting State**\n",
        "\n",
        "Random position from -0.6 to -0.4 with no velocity.\n",
        "\n",
        "\n",
        "**Episode Termination**\n",
        "\n",
        "The episode ends when you reach 0.5 position, or if 200 iterations are reached.\n",
        "\n",
        "\n"
      ]
    },
    {
      "cell_type": "code",
      "metadata": {
        "id": "BgF62s03wbmA"
      },
      "source": [
        "!apt-get install -y xvfb python-opengl > /dev/null 2>&1\n",
        "!pip install gym pyvirtualdisplay > /dev/null 2>&1\n"
      ],
      "execution_count": null,
      "outputs": []
    },
    {
      "cell_type": "code",
      "metadata": {
        "id": "HwKEh_Qp0z34"
      },
      "source": [
        "import gym\n",
        "import numpy as np\n",
        "import matplotlib.pyplot as plt\n",
        "from IPython import display as ipythondisplay\n",
        "import pandas as pd"
      ],
      "execution_count": null,
      "outputs": []
    },
    {
      "cell_type": "code",
      "metadata": {
        "colab": {
          "base_uri": "https://localhost:8080/"
        },
        "id": "XxrPNnDL01U2",
        "outputId": "131be2cd-13e4-48b5-e89d-c44f2d895d22"
      },
      "source": [
        "from pyvirtualdisplay import Display\n",
        "display = Display(visible=0, size=(400, 300))\n",
        "display.start()\n",
        "env = gym.make(\"MountainCar-v0\")\n",
        "env.reset()"
      ],
      "execution_count": null,
      "outputs": [
        {
          "output_type": "execute_result",
          "data": {
            "text/plain": [
              "array([-0.54989878,  0.        ])"
            ]
          },
          "metadata": {
            "tags": []
          },
          "execution_count": 3
        }
      ]
    },
    {
      "cell_type": "markdown",
      "metadata": {
        "id": "tPyxjJK4s-Dz"
      },
      "source": [
        "Discretize the state space and save as a list such that it will be used for all future control algorithms in this assignment."
      ]
    },
    {
      "cell_type": "code",
      "metadata": {
        "id": "8eI1HDu21d8g"
      },
      "source": [
        "#discretize the continous state space # cos = pos\n",
        "pos_space = np.linspace(-1.2,0.6, 20)\n",
        "vel_space = np.linspace(-0.07, 0.07, 20)\n",
        "\n",
        "n_S = len(pos_space)*len(vel_space)\n",
        "s = np.zeros(shape = (n_S, 2)) #each state has an array of 2 numbers\n",
        "\n",
        "pos_index = 0 \n",
        "vel_index = 0\n",
        "\n",
        "for i in range(n_S):\n",
        "    s[i][0] = pos_space[pos_index]\n",
        "    s[i][1] = vel_space[vel_index]\n",
        "\n",
        "    vel_index += 1\n",
        "    if vel_index == len(vel_space):\n",
        "        vel_index = 0\n",
        "        pos_index+=1\n",
        "        #if sin_index == len(sin_space):\n",
        "            #sin_index = 0\n",
        "            #pos_index+=1\n",
        "            #if cv_index == len(cv_space):\n",
        "                #cv_index = 0\n",
        "                #cp_index +=1\n",
        "s = s.tolist()\n",
        "\n"
      ],
      "execution_count": null,
      "outputs": []
    },
    {
      "cell_type": "markdown",
      "metadata": {
        "id": "fUaDt6ZJtG_d"
      },
      "source": [
        "#Exercise 1\n",
        "\n",
        "## Off-policy Monte Carlo Control\n",
        "Develop off-policy Monte Carlo control algorithm:\n",
        "\n",
        "\n"
      ]
    },
    {
      "cell_type": "markdown",
      "metadata": {
        "id": "-S6l4TuuudPr"
      },
      "source": [
        "##Off-policy Monte Carlo Control "
      ]
    },
    {
      "cell_type": "code",
      "metadata": {
        "id": "9icU5xrPNE65"
      },
      "source": [
        "def disc_state(s):\n",
        "    #give state as a list of ints and return is list of ints\n",
        "    s_disc = [min(pos_space, key=lambda x:abs(x-s[0])), min(vel_space, key=lambda x:abs(x-s[1]))]\n",
        "    return s_disc\n",
        "\n",
        "def off_policy(pi,s,Q,t):\n",
        "\n",
        "    if np.random.uniform(0,1) < max(0.001, min(0.015, 1.0 - np.log((t+1)/200.))):\n",
        "        #take any random possible action\n",
        "        a = env.action_space.sample()\n",
        "    else:\n",
        "        #take greedy action following policy pi\n",
        "        a = np.argmax(Q[str(s)])\n",
        "    return a\n",
        "\n",
        "def gen_episode_b(pi,Q):\n",
        "    #generate episode following policy b\n",
        "    episode = []\n",
        "    s = disc_state(list(env.reset()))\n",
        "    t=0\n",
        "    while True:\n",
        "        a = off_policy(pi,s,Q,t)\n",
        "        s_, r, gameState, _ = env.step(a)\n",
        "        s_ = disc_state(list(s_))\n",
        "        episode.append((s, a, r, s_))\n",
        "        s = s_\n",
        "        if gameState == True:\n",
        "            break\n",
        "        t+=1\n",
        "    return episode\n",
        "\n",
        "\n",
        "def MC_OP_Control(Q, C, pi, maxEpisode):\n",
        "    avg_reward_per_episode = []\n",
        "    discount = 0.95\n",
        "    for episode in range(maxEpisode):\n",
        "        episode = gen_episode_b(pi,Q)\n",
        "        \n",
        "        G = 0\n",
        "        W = 1\n",
        "        \n",
        "        T = len(episode)\n",
        "        for i in range(T):\n",
        "            t = T - i -1\n",
        "            G = discount*G + episode[t][2] \n",
        "            C[str(episode[t][0])][episode[t][1]] += W\n",
        "            Q[str(episode[t][0])][episode[t][1]] += (W/C[str(episode[t][0])][episode[t][1]])*(G - Q[str(episode[t][0])][episode[t][1]])\n",
        "            pi[str(episode[t][0])] = [0,0,0]\n",
        "            pi[str(episode[t][0])][np.argmax(Q[str(episode[t][0])])] = 1\n",
        "            \n",
        "            if episode[t][1] != np.argmax(Q[str(episode[t][0])]):\n",
        "                rewards = []\n",
        "                for i in range(5):\n",
        "                    rewards.append(test_policy(Q))\n",
        "                avg_reward_per_episode.append(np.mean(rewards))\n",
        "                break\n",
        "            W = W*(1 / pi[str(episode[t][0])][episode[t][1]])\n",
        "\n",
        "    plt.plot(avg_reward_per_episode)\n",
        "    plt.title('off-policy Monte Carlo average return over training epsiodes')\n",
        "    plt.ylabel('Average Reward Until Completion')\n",
        "    plt.xlabel('Training episodes')\n",
        "    plt.show()\n",
        "    return Q\n",
        "\n",
        "def test_policy(Q):   \n",
        "\n",
        "    s = disc_state(env.reset())\n",
        "    #prev_screen = env.render(mode='rgb_array')\n",
        "    #plt.imshow(prev_screen)\n",
        "\n",
        "    for i in range(200):\n",
        "        action = np.argmax(Q[str(s)])\n",
        "        #print(\"step i\",i,\"action=\",action)\n",
        "        s_, r, gameState, _ = env.step(action)\n",
        "        #print(\"obs=\",s_,\"reward=\",reward,\"done=\",done,\"info=\",info)\n",
        "        #screen = env.render(mode='rgb_array')\n",
        "  \n",
        "        #plt.imshow(screen)\n",
        "        #ipythondisplay.clear_output(wait=False)\n",
        "        #ipythondisplay.display(plt.gcf())\n",
        "        s = disc_state(s_)\n",
        "        if gameState:\n",
        "            return i+1\n",
        "            break\n",
        "    \n",
        "    #ipythondisplay.clear_output(wait=False)\n",
        "    env.close()\n",
        "    #print(\"Iterations that were run:\",i)"
      ],
      "execution_count": null,
      "outputs": []
    },
    {
      "cell_type": "code",
      "metadata": {
        "id": "CgaNEsd4GtNR",
        "colab": {
          "base_uri": "https://localhost:8080/",
          "height": 295
        },
        "outputId": "53afede6-5b2f-47ec-c85a-646df4cd7941"
      },
      "source": [
        "n_A = 3\n",
        "\n",
        "Q = {}\n",
        "C = {}\n",
        "pi = {}\n",
        "for state in list(s):\n",
        "    Q[str(state)] = [0,0,0]\n",
        "    C[str(state)] = [0,0,0]\n",
        "    pi[str(state)] = [1,0,0]\n",
        "    pi[str(state)][np.argmax(Q[str(state)])] = 1\n",
        "\n",
        "Q_MC_optimal = MC_OP_Control(Q,C,pi, 3000)"
      ],
      "execution_count": null,
      "outputs": [
        {
          "output_type": "display_data",
          "data": {
            "image/png": "[encoded data removed]",
            "text/plain": [
              "<Figure size 432x288 with 1 Axes>"
            ]
          },
          "metadata": {
            "tags": [],
            "needs_background": "light"
          }
        }
      ]
    },
    {
      "cell_type": "code",
      "metadata": {
        "colab": {
          "base_uri": "https://localhost:8080/"
        },
        "id": "hmvK-iWnpRnh",
        "outputId": "342bbe44-c845-49e9-c248-3ce553189bf8"
      },
      "source": [
        "MC_results = []\n",
        "for i in range(200):\n",
        "    result = test_policy(Q_MC_optimal)\n",
        "    MC_results.append(result)\n",
        "MC_results_avg = np.mean(MC_results)\n",
        "print('The average episode length until termination from the policy computed from the above off-policy MC algorithm is: ', np.mean(MC_results_avg))"
      ],
      "execution_count": null,
      "outputs": [
        {
          "output_type": "stream",
          "text": [
            "The average episode length until termination from the policy computed from the above off-policy MC algorithm is:  200.0\n"
          ],
          "name": "stdout"
        }
      ]
    },
    {
      "cell_type": "markdown",
      "metadata": {
        "id": "09GegtCpzlKJ"
      },
      "source": [
        "##Summary of Results"
      ]
    },
    {
      "cell_type": "markdown",
      "metadata": {
        "id": "BIiz4MvFBSGG"
      },
      "source": [
        "As shown in the results above the MC control algorithm does not perform well for this task. The average iterations until completion of the task was 200 which is also the auto termination point (meaning it doesn't reach position 0.5 and faield the task). Additionally we see no improvement at all during learning through the trianing episodes. \n",
        "\n",
        "Despite 3000 training episodes the resulting policy still performs poorly never completing the problem within 200 iterations for each run. This indicates the MC is learning too slowly or not at all  since the gameState ends after 200 episodes it never generates an episode that completes the task. If the max iterations was altered to say 1000 the MC method may show better results however this just confirms what we already know which is MC is a slow learner since it requires computation of the full return of an episode."
      ]
    },
    {
      "cell_type": "markdown",
      "metadata": {
        "id": "JEg2IkOUIuY1"
      },
      "source": [
        "#Task 1\n",
        "\n",
        "TD(0)\n",
        "1. on-policy SARSA\n",
        "2. on-policy expected SARSA\n",
        "3. off-policy expected SARSA with a greedy control policy."
      ]
    },
    {
      "cell_type": "markdown",
      "metadata": {
        "id": "P8P5xjIzJnvL"
      },
      "source": [
        "##TD(0) On-policy SARSA Control"
      ]
    },
    {
      "cell_type": "code",
      "metadata": {
        "id": "JlmSxC4CJpI8"
      },
      "source": [
        "def action_selection(s, t, Q):\n",
        "    if np.random.random() < max(0.001, min(0.015, 1.0 - np.log((t+1)/220.))):\n",
        "        return env.action_space.sample()\n",
        "    \n",
        "    return np.argmax(Q[str(s)])\n",
        "\n",
        "\n",
        "\n",
        "def on_pol_SARSA(Q, maxEpisode):\n",
        "    discount = 0.99\n",
        "    avg_reward_per_episode = []\n",
        "    for i in range(maxEpisode):\n",
        "        t = 0\n",
        "        s = disc_state(env.reset())\n",
        "        while True:\n",
        "            a = action_selection(s,t,Q)\n",
        "            s_, r, gameState, _ = env.step(a)\n",
        "            s_ = disc_state(s_)\n",
        "            a_ = action_selection(s_,t,Q)\n",
        "            Q[str(s)][a] += max(0.4, min(0.1, 1.0 - np.log((t+1)/125.)))*(r + discount* Q[str(s_)][a_] - Q[str(s)][a])\n",
        "            s = s_\n",
        "            a = a_\n",
        "            t+=1\n",
        "            if gameState:\n",
        "                rewards = []\n",
        "                for i in range(5):\n",
        "                    rewards.append(test_policy(Q))\n",
        "                avg_reward_per_episode.append(np.mean(rewards))\n",
        "                break\n",
        "    plt.plot(avg_reward_per_episode)\n",
        "    plt.title('on-policy SARSA average return over training epsiodes')\n",
        "    plt.ylabel('Average Reward Until Completion')\n",
        "    plt.xlabel('Training episodes')\n",
        "    plt.show()\n",
        "    return Q\n"
      ],
      "execution_count": null,
      "outputs": []
    },
    {
      "cell_type": "code",
      "metadata": {
        "colab": {
          "base_uri": "https://localhost:8080/",
          "height": 295
        },
        "id": "JnHvzp5QTgHN",
        "outputId": "713f371e-6ecd-4648-d1d9-529f05f36fcf"
      },
      "source": [
        "Q = {}\n",
        "for state in list(s):\n",
        "    Q[str(state)] = [0,0,0]\n",
        "\n",
        "Q_on_pol_SARSA = on_pol_SARSA(Q, 3000)"
      ],
      "execution_count": null,
      "outputs": [
        {
          "output_type": "display_data",
          "data": {
            "image/png": "[encoded data removed]",
            "text/plain": [
              "<Figure size 432x288 with 1 Axes>"
            ]
          },
          "metadata": {
            "tags": [],
            "needs_background": "light"
          }
        }
      ]
    },
    {
      "cell_type": "code",
      "metadata": {
        "colab": {
          "base_uri": "https://localhost:8080/"
        },
        "id": "rnfIXxK7hd90",
        "outputId": "126b60cc-3d95-4079-f7f5-65f8efb475ca"
      },
      "source": [
        "Q_SARSA_0_results = []\n",
        "for i in range(200):\n",
        "    result = test_policy(Q_on_pol_SARSA)\n",
        "    Q_SARSA_0_results.append(result)\n",
        "Q_n_SARSA_0_avg = np.mean(Q_SARSA_0_results)\n",
        "print('The average episode length until termination for TD(0) using n-SARSA is: ', Q_n_SARSA_0_avg)"
      ],
      "execution_count": null,
      "outputs": [
        {
          "output_type": "stream",
          "text": [
            "The average episode length until termination for TD(0) using n-SARSA is:  174.355\n"
          ],
          "name": "stdout"
        }
      ]
    },
    {
      "cell_type": "markdown",
      "metadata": {
        "id": "0Xum1SyWDe11"
      },
      "source": [
        "##TD(0) On-policy Expected SARSA Control"
      ]
    },
    {
      "cell_type": "code",
      "metadata": {
        "id": "sAoLUVW5HwPg"
      },
      "source": [
        "def update_pi(Q,pi,s, t):\n",
        "    epsilon = max(0.001, min(0.015, 1.0 - np.log((t+1)/220.)))\n",
        "    pi[str(s)] = [epsilon/3,epsilon/3,epsilon/3 ]\n",
        "    pi[str(s)][np.argmax(Q[str(s)])] += 1-epsilon \n",
        "    return pi\n",
        "\n",
        "def on_pol_exp_SARSA(Q, maxEpisode, pi):\n",
        "    discount = 0.99\n",
        "    avg_reward_per_episode = []\n",
        "    for i in range(maxEpisode):\n",
        "        t = 0\n",
        "        s = disc_state(env.reset())\n",
        "        while True:\n",
        "            a = action_selection(s,t,Q)\n",
        "            s_, r, gameState, _ = env.step(a)\n",
        "            s_ = disc_state(s_)\n",
        "            Q[str(s)][a] += max(0.4, min(0.1, 1.0 - np.log((t+1)/125.)))*(r + discount* (pi[str(s_)][0]*Q[str(s_)][0]+pi[str(s_)][1]*Q[str(s_)][1]+pi[str(s_)][2]*Q[str(s_)][2]) - Q[str(s)][a])\n",
        "            pi = update_pi(Q,pi,s,t)\n",
        "            s = s_\n",
        "            t+=1\n",
        "            if gameState:\n",
        "                rewards = []\n",
        "                for i in range(5):\n",
        "                    rewards.append(test_policy(Q))\n",
        "                avg_reward_per_episode.append(np.mean(rewards))\n",
        "                break\n",
        "    plt.plot(avg_reward_per_episode)\n",
        "    plt.title('off-policy expected SARSA average return over training epsiodes')\n",
        "    plt.ylabel('Average Reward Until Completion')\n",
        "    plt.xlabel('Training episodes')\n",
        "    plt.show()\n",
        "    return Q\n"
      ],
      "execution_count": null,
      "outputs": []
    },
    {
      "cell_type": "code",
      "metadata": {
        "colab": {
          "base_uri": "https://localhost:8080/",
          "height": 295
        },
        "id": "-0HZrsqDPejM",
        "outputId": "37471043-2fa9-4a7a-e3df-b4ee7fd5d56a"
      },
      "source": [
        "Q = {}\n",
        "pi = {}\n",
        "for state in list(s):\n",
        "    Q[str(state)] = [0,0,0]\n",
        "    pi[str(state)] = [0,0,0]\n",
        "    pi[str(state)][np.argmax(Q[str(state)])] = 1\n",
        "\n",
        "\n",
        "Q_off_pol_exp_SARSA = on_pol_exp_SARSA(Q,3000, pi)"
      ],
      "execution_count": null,
      "outputs": [
        {
          "output_type": "display_data",
          "data": {
            "image/png": "[encoded data removed]",
            "text/plain": [
              "<Figure size 432x288 with 1 Axes>"
            ]
          },
          "metadata": {
            "tags": [],
            "needs_background": "light"
          }
        }
      ]
    },
    {
      "cell_type": "code",
      "metadata": {
        "colab": {
          "base_uri": "https://localhost:8080/"
        },
        "id": "-kSpQeiIhtIt",
        "outputId": "b1996e86-7d97-4f81-886d-7d95cb079d01"
      },
      "source": [
        "Q_exp_SARSA_0_results = []\n",
        "for i in range(200):\n",
        "    result = test_policy(Q_off_pol_exp_SARSA)\n",
        "    Q_exp_SARSA_0_results.append(result)\n",
        "Q_exp_SARSA_0_avg = np.mean(Q_exp_SARSA_0_results)\n",
        "print('The average episode length until termination for TD(0) using expected n-SARSA is: ', Q_exp_SARSA_0_avg)"
      ],
      "execution_count": null,
      "outputs": [
        {
          "output_type": "stream",
          "text": [
            "The average episode length until termination for TD(0) using expected n-SARSA is:  173.995\n"
          ],
          "name": "stdout"
        }
      ]
    },
    {
      "cell_type": "markdown",
      "metadata": {
        "id": "-TNlAmuWWQyW"
      },
      "source": [
        "##TD(0) Off-policy expected SARSA Control (greedy)"
      ]
    },
    {
      "cell_type": "code",
      "metadata": {
        "id": "vER8xsjkXlns"
      },
      "source": [
        "def off_policy_action_selection(s, t, Q):\n",
        "    if np.random.random() < 0.05:\n",
        "\n",
        "        return env.action_space.sample()\n",
        "    \n",
        "    return np.argmax(Q[str(s)])\n",
        "\n",
        "\n",
        "def off_pol_exp_SARSA(Q, maxEpisode, pi):\n",
        "    discount = 0.99\n",
        "    avg_reward_per_episode = []\n",
        "    for i in range(maxEpisode):\n",
        "        t = 0\n",
        "        s = disc_state(env.reset())\n",
        "        while True:\n",
        "            a = off_policy_action_selection(s,t,Q)\n",
        "            s_, r, gameState, _ = env.step(a)\n",
        "            s_ = disc_state(s_)\n",
        "            Q[str(s)][a] += max(0.4, min(0.1, 1.0 - np.log((t+1)/350.)))*(r + discount* (pi[str(s_)][0]*Q[str(s_)][0]+pi[str(s_)][1]*Q[str(s_)][1]+pi[str(s_)][2]*Q[str(s_)][2]) - Q[str(s)][a])\n",
        "            pi = update_pi(Q,pi,s,t)\n",
        "            s = s_\n",
        "            t+=1\n",
        "            if gameState:\n",
        "                rewards = []\n",
        "                for i in range(5):\n",
        "                    rewards.append(test_policy(Q))\n",
        "                avg_reward_per_episode.append(np.mean(rewards))\n",
        "                break\n",
        "    plt.plot(avg_reward_per_episode)\n",
        "    plt.title('off-policy expected SARSA average return over training epsiodes')\n",
        "    plt.ylabel('Average Reward Until Completion')\n",
        "    plt.xlabel('Training episodes')\n",
        "    plt.show()\n",
        "    return Q"
      ],
      "execution_count": null,
      "outputs": []
    },
    {
      "cell_type": "code",
      "metadata": {
        "colab": {
          "base_uri": "https://localhost:8080/",
          "height": 295
        },
        "id": "W2bxTUBSeKxH",
        "outputId": "90cb4171-a778-47eb-fd02-ae19a42a27e1"
      },
      "source": [
        "Q = {}\n",
        "pi = {}\n",
        "for state in list(s):\n",
        "    Q[str(state)] = [0,0,0]\n",
        "    pi[str(state)] = [0,0,0]\n",
        "    pi[str(state)][np.argmax(Q[str(state)])] = 1\n",
        "\n",
        "\n",
        "Q_off_pol_exp_SARSA_greedy = off_pol_exp_SARSA(Q,3000, pi)"
      ],
      "execution_count": null,
      "outputs": [
        {
          "output_type": "display_data",
          "data": {
            "image/png": "[encoded data removed]",
            "text/plain": [
              "<Figure size 432x288 with 1 Axes>"
            ]
          },
          "metadata": {
            "tags": [],
            "needs_background": "light"
          }
        }
      ]
    },
    {
      "cell_type": "code",
      "metadata": {
        "colab": {
          "base_uri": "https://localhost:8080/"
        },
        "id": "ioXzEm2Fh7KL",
        "outputId": "751b957c-3b27-463e-bb5f-c3bf2cf7d642"
      },
      "source": [
        "Q_off_pol_SARSA_0_results = []\n",
        "for i in range(200):\n",
        "    result = test_policy(Q_off_pol_exp_SARSA_greedy)\n",
        "    Q_off_pol_SARSA_0_results.append(result)\n",
        "Q_off_pol_SARSA_0_avg = np.mean(Q_off_pol_SARSA_0_results)\n",
        "print('The average episode length until termination for TD(0) using off-policy expected n-SARSA is: ', Q_off_pol_SARSA_0_avg)"
      ],
      "execution_count": null,
      "outputs": [
        {
          "output_type": "stream",
          "text": [
            "The average episode length until termination for TD(0) using off-policy expected n-SARSA is:  189.785\n"
          ],
          "name": "stdout"
        }
      ]
    },
    {
      "cell_type": "markdown",
      "metadata": {
        "id": "jM9KEvNAhRWD"
      },
      "source": [
        "##Summary of Results\n",
        "\n",
        "discount = 0.95\n",
        "\n",
        "LR = max(0.4, min(0.1, 1.0 - log((t+1)/350.)))\n",
        "\n",
        "training episodes = 3000"
      ]
    },
    {
      "cell_type": "code",
      "metadata": {
        "colab": {
          "base_uri": "https://localhost:8080/",
          "height": 138
        },
        "id": "XGq6D124hN5J",
        "outputId": "f4b9d55f-7ca3-4d2d-bdc3-d55f21bc69d7"
      },
      "source": [
        "pd.DataFrame(data = [Q_n_SARSA_0_avg,Q_exp_SARSA_0_avg,Q_off_pol_SARSA_0_avg], index = ['On-policy SARSA','On-policy Expected SARSA','Off-policy expected SARSA (greedy)'], columns = ['Average episode length (200 episodes)'])"
      ],
      "execution_count": null,
      "outputs": [
        {
          "output_type": "execute_result",
          "data": {
            "text/html": [
              "<div>\n",
              "<style scoped>\n",
              "    .dataframe tbody tr th:only-of-type {\n",
              "        vertical-align: middle;\n",
              "    }\n",
              "\n",
              "    .dataframe tbody tr th {\n",
              "        vertical-align: top;\n",
              "    }\n",
              "\n",
              "    .dataframe thead th {\n",
              "        text-align: right;\n",
              "    }\n",
              "</style>\n",
              "<table border=\"1\" class=\"dataframe\">\n",
              "  <thead>\n",
              "    <tr style=\"text-align: right;\">\n",
              "      <th></th>\n",
              "      <th>Average episode length (200 episodes)</th>\n",
              "    </tr>\n",
              "  </thead>\n",
              "  <tbody>\n",
              "    <tr>\n",
              "      <th>On-policy SARSA</th>\n",
              "      <td>174.355</td>\n",
              "    </tr>\n",
              "    <tr>\n",
              "      <th>On-policy Expected SARSA</th>\n",
              "      <td>173.995</td>\n",
              "    </tr>\n",
              "    <tr>\n",
              "      <th>Off-policy expected SARSA (greedy)</th>\n",
              "      <td>189.785</td>\n",
              "    </tr>\n",
              "  </tbody>\n",
              "</table>\n",
              "</div>"
            ],
            "text/plain": [
              "                                    Average episode length (200 episodes)\n",
              "On-policy SARSA                                                   174.355\n",
              "On-policy Expected SARSA                                          173.995\n",
              "Off-policy expected SARSA (greedy)                                189.785"
            ]
          },
          "metadata": {
            "tags": []
          },
          "execution_count": 22
        }
      ]
    },
    {
      "cell_type": "markdown",
      "metadata": {
        "id": "dPjI5sELuV-3"
      },
      "source": [
        "As show in the table of results above the TD(0) on-policy expected SARSA had the best performance with the lowest average return per episode (completed the task the fastest). TD(0) on-policy SARSA performed similarily although slightly worse and off-policy expected SARSA with greedy control policy performed the worst although they are relatively close compared to the variance.\n",
        "\n",
        "The graphs shown above display the variance of the policy performance for the algorithms during training. Expected SARSA appears to be the most stable as the training episodes increase. Expected SARSA also follows the general trend of SARSA as expected but with less variance. I think expected SARSA in general is the better selection since with SARSA there is more fluctuation in performance during training.   \n",
        "\n",
        "The off-policy expected SARSA used an epsilon value of 0.05 which is greater than those used for on-policy SARSA and expected SARSA. It appeared to have learned faster initially than the others which had a epsilon value of max(0.001, min(0.015, 1.0 - log((t+1)/220.))) which decays over time but the overall performance was worse. I likely need to decrease the epsilon such that we can progress through episodes fast enough before hitting the 200 step limit in order to learn values of all states. An epsilon of 0.05 likely results in poorer learning because the cart never makes it up the hill very far in 200 episodes and doesn't explore those states / state-action pairs. "
      ]
    },
    {
      "cell_type": "markdown",
      "metadata": {
        "id": "dbDLX-xXhOSf"
      },
      "source": [
        "#Exercise 2\n",
        "\n"
      ]
    },
    {
      "cell_type": "markdown",
      "metadata": {
        "id": "h-vpo7w92BXr"
      },
      "source": [
        "##n-Step TD Prediction"
      ]
    },
    {
      "cell_type": "code",
      "metadata": {
        "id": "9qbceKUH3RJI"
      },
      "source": [
        "def update_pi_V(V,pi,s, t):\n",
        "    epsilon = max(0.001, min(0.015, 1.0 - np.log((t+1)/220.)))\n",
        "    pi[str(s)] = [epsilon/3,epsilon/3,epsilon/3 ]\n",
        "    pi[str(s)][np.argmax(V[str(s)])] += 1-epsilon \n",
        "    return pi\n",
        "\n",
        "def n_TD(n,Q,maxEpisode,pi):\n",
        "    discount = 0.95\n",
        "    for i in range(maxEpisode):\n",
        "        R = [0]\n",
        "        S = []\n",
        "        A = []\n",
        "        s = disc_state(env.reset())\n",
        "        S.append(s)\n",
        "        T = 10000\n",
        "        for t in range(T):\n",
        "            if t<T:\n",
        "                a = action_selection(str(S[t]),t,V)\n",
        "                A.append(a)\n",
        "                s_, r, gameState, _ = env.step(A[t])\n",
        "                s_ = disc_state(s_)\n",
        "                S.append(s_)\n",
        "                R.append(r)\n",
        "                if gameState == True:\n",
        "                    T = t+1\n",
        "            tau = t-n+1\n",
        "            if tau >= 0:\n",
        "                G = 0\n",
        "                for i in range(tau+1,min(tau+n,T)+1):\n",
        "                    G += (discount**(i-tau-1))*R[i]\n",
        "                if tau + n < T:\n",
        "                    G += (discount**n)*V[str(S[tau+n])][0]\n",
        "                \n",
        "                V[str(S[tau])][0] += max(0.4, min(0.1, 1.0 - np.log((t+1)/125.)))*(G - V[str(S[tau])][0])\n",
        "                pi = update_pi_V(V, pi, S[tau], t)\n",
        "            if tau == T-1:\n",
        "                break\n",
        "            s = s_\n",
        "\n",
        "    return V\n"
      ],
      "execution_count": null,
      "outputs": []
    },
    {
      "cell_type": "code",
      "metadata": {
        "id": "ODAxY2r-9M9U"
      },
      "source": [
        "V = {}\n",
        "pi = {}\n",
        "for state in list(s):\n",
        "    V[str(state)] = [0]\n",
        "    pi[str(state)] = [0,0,0]\n",
        "    pi[str(state)][np.argmax(V[str(state)])] = 1\n",
        "\n",
        "\n",
        "V_n_TD = n_TD(4,V,1000,pi)"
      ],
      "execution_count": null,
      "outputs": []
    },
    {
      "cell_type": "code",
      "metadata": {
        "colab": {
          "base_uri": "https://localhost:8080/"
        },
        "id": "M5P0nkWHy4UP",
        "outputId": "c22d4c7f-9d2a-4c68-de7e-40e5f9535412"
      },
      "source": [
        "V_n_TD"
      ],
      "execution_count": null,
      "outputs": [
        {
          "output_type": "execute_result",
          "data": {
            "text/plain": [
              "{'[-0.06315789473684208, -0.00368421052631579]': [0],\n",
              " '[-0.06315789473684208, -0.01105263157894737]': [0],\n",
              " '[-0.06315789473684208, -0.01842105263157895]': [0],\n",
              " '[-0.06315789473684208, -0.02578947368421053]': [0],\n",
              " '[-0.06315789473684208, -0.03315789473684211]': [0],\n",
              " '[-0.06315789473684208, -0.04052631578947369]': [0],\n",
              " '[-0.06315789473684208, -0.04789473684210527]': [0],\n",
              " '[-0.06315789473684208, -0.05526315789473685]': [0],\n",
              " '[-0.06315789473684208, -0.06263157894736843]': [0],\n",
              " '[-0.06315789473684208, -0.07]': [0],\n",
              " '[-0.06315789473684208, 0.00368421052631579]': [0],\n",
              " '[-0.06315789473684208, 0.01105263157894737]': [0],\n",
              " '[-0.06315789473684208, 0.01842105263157895]': [0],\n",
              " '[-0.06315789473684208, 0.02578947368421053]': [0],\n",
              " '[-0.06315789473684208, 0.03315789473684211]': [0],\n",
              " '[-0.06315789473684208, 0.04052631578947369]': [0],\n",
              " '[-0.06315789473684208, 0.04789473684210527]': [0],\n",
              " '[-0.06315789473684208, 0.05526315789473685]': [0],\n",
              " '[-0.06315789473684208, 0.06263157894736843]': [0],\n",
              " '[-0.06315789473684208, 0.07]': [0],\n",
              " '[-0.1578947368421053, -0.00368421052631579]': [0],\n",
              " '[-0.1578947368421053, -0.01105263157894737]': [0],\n",
              " '[-0.1578947368421053, -0.01842105263157895]': [0],\n",
              " '[-0.1578947368421053, -0.02578947368421053]': [0],\n",
              " '[-0.1578947368421053, -0.03315789473684211]': [0],\n",
              " '[-0.1578947368421053, -0.04052631578947369]': [0],\n",
              " '[-0.1578947368421053, -0.04789473684210527]': [0],\n",
              " '[-0.1578947368421053, -0.05526315789473685]': [0],\n",
              " '[-0.1578947368421053, -0.06263157894736843]': [0],\n",
              " '[-0.1578947368421053, -0.07]': [0],\n",
              " '[-0.1578947368421053, 0.00368421052631579]': [0],\n",
              " '[-0.1578947368421053, 0.01105263157894737]': [0],\n",
              " '[-0.1578947368421053, 0.01842105263157895]': [0],\n",
              " '[-0.1578947368421053, 0.02578947368421053]': [0],\n",
              " '[-0.1578947368421053, 0.03315789473684211]': [0],\n",
              " '[-0.1578947368421053, 0.04052631578947369]': [0],\n",
              " '[-0.1578947368421053, 0.04789473684210527]': [0],\n",
              " '[-0.1578947368421053, 0.05526315789473685]': [0],\n",
              " '[-0.1578947368421053, 0.06263157894736843]': [0],\n",
              " '[-0.1578947368421053, 0.07]': [0],\n",
              " '[-0.25263157894736854, -0.00368421052631579]': [0],\n",
              " '[-0.25263157894736854, -0.01105263157894737]': [0],\n",
              " '[-0.25263157894736854, -0.01842105263157895]': [0],\n",
              " '[-0.25263157894736854, -0.02578947368421053]': [0],\n",
              " '[-0.25263157894736854, -0.03315789473684211]': [0],\n",
              " '[-0.25263157894736854, -0.04052631578947369]': [0],\n",
              " '[-0.25263157894736854, -0.04789473684210527]': [0],\n",
              " '[-0.25263157894736854, -0.05526315789473685]': [0],\n",
              " '[-0.25263157894736854, -0.06263157894736843]': [0],\n",
              " '[-0.25263157894736854, -0.07]': [0],\n",
              " '[-0.25263157894736854, 0.00368421052631579]': [0],\n",
              " '[-0.25263157894736854, 0.01105263157894737]': [0],\n",
              " '[-0.25263157894736854, 0.01842105263157895]': [0],\n",
              " '[-0.25263157894736854, 0.02578947368421053]': [0],\n",
              " '[-0.25263157894736854, 0.03315789473684211]': [0],\n",
              " '[-0.25263157894736854, 0.04052631578947369]': [0],\n",
              " '[-0.25263157894736854, 0.04789473684210527]': [0],\n",
              " '[-0.25263157894736854, 0.05526315789473685]': [0],\n",
              " '[-0.25263157894736854, 0.06263157894736843]': [0],\n",
              " '[-0.25263157894736854, 0.07]': [0],\n",
              " '[-0.34736842105263166, -0.00368421052631579]': [-18.533936035563766],\n",
              " '[-0.34736842105263166, -0.01105263157894737]': [0],\n",
              " '[-0.34736842105263166, -0.01842105263157895]': [0],\n",
              " '[-0.34736842105263166, -0.02578947368421053]': [0],\n",
              " '[-0.34736842105263166, -0.03315789473684211]': [0],\n",
              " '[-0.34736842105263166, -0.04052631578947369]': [0],\n",
              " '[-0.34736842105263166, -0.04789473684210527]': [0],\n",
              " '[-0.34736842105263166, -0.05526315789473685]': [0],\n",
              " '[-0.34736842105263166, -0.06263157894736843]': [0],\n",
              " '[-0.34736842105263166, -0.07]': [0],\n",
              " '[-0.34736842105263166, 0.00368421052631579]': [-18.70374910787613],\n",
              " '[-0.34736842105263166, 0.01105263157894737]': [-12.192233127942853],\n",
              " '[-0.34736842105263166, 0.01842105263157895]': [0],\n",
              " '[-0.34736842105263166, 0.02578947368421053]': [0],\n",
              " '[-0.34736842105263166, 0.03315789473684211]': [0],\n",
              " '[-0.34736842105263166, 0.04052631578947369]': [0],\n",
              " '[-0.34736842105263166, 0.04789473684210527]': [0],\n",
              " '[-0.34736842105263166, 0.05526315789473685]': [0],\n",
              " '[-0.34736842105263166, 0.06263157894736843]': [0],\n",
              " '[-0.34736842105263166, 0.07]': [0],\n",
              " '[-0.4421052631578948, -0.00368421052631579]': [-18.865660928245017],\n",
              " '[-0.4421052631578948, -0.01105263157894737]': [-18.820656589376586],\n",
              " '[-0.4421052631578948, -0.01842105263157895]': [-18.61725740196157],\n",
              " '[-0.4421052631578948, -0.02578947368421053]': [0],\n",
              " '[-0.4421052631578948, -0.03315789473684211]': [0],\n",
              " '[-0.4421052631578948, -0.04052631578947369]': [0],\n",
              " '[-0.4421052631578948, -0.04789473684210527]': [0],\n",
              " '[-0.4421052631578948, -0.05526315789473685]': [0],\n",
              " '[-0.4421052631578948, -0.06263157894736843]': [0],\n",
              " '[-0.4421052631578948, -0.07]': [0],\n",
              " '[-0.4421052631578948, 0.00368421052631579]': [-19.07551054331022],\n",
              " '[-0.4421052631578948, 0.01105263157894737]': [-19.072173208780566],\n",
              " '[-0.4421052631578948, 0.01842105263157895]': [-19.17525176301957],\n",
              " '[-0.4421052631578948, 0.02578947368421053]': [0],\n",
              " '[-0.4421052631578948, 0.03315789473684211]': [0],\n",
              " '[-0.4421052631578948, 0.04052631578947369]': [0],\n",
              " '[-0.4421052631578948, 0.04789473684210527]': [0],\n",
              " '[-0.4421052631578948, 0.05526315789473685]': [0],\n",
              " '[-0.4421052631578948, 0.06263157894736843]': [0],\n",
              " '[-0.4421052631578948, 0.07]': [0],\n",
              " '[-0.5368421052631579, -0.00368421052631579]': [-18.939040765104043],\n",
              " '[-0.5368421052631579, -0.01105263157894737]': [-17.9250192298111],\n",
              " '[-0.5368421052631579, -0.01842105263157895]': [-16.677290030075213],\n",
              " '[-0.5368421052631579, -0.02578947368421053]': [-16.632571409039706],\n",
              " '[-0.5368421052631579, -0.03315789473684211]': [0],\n",
              " '[-0.5368421052631579, -0.04052631578947369]': [0],\n",
              " '[-0.5368421052631579, -0.04789473684210527]': [0],\n",
              " '[-0.5368421052631579, -0.05526315789473685]': [0],\n",
              " '[-0.5368421052631579, -0.06263157894736843]': [0],\n",
              " '[-0.5368421052631579, -0.07]': [0],\n",
              " '[-0.5368421052631579, 0.00368421052631579]': [-17.949302957306358],\n",
              " '[-0.5368421052631579, 0.01105263157894737]': [-18.1569829963956],\n",
              " '[-0.5368421052631579, 0.01842105263157895]': [-19.277357282152977],\n",
              " '[-0.5368421052631579, 0.02578947368421053]': [-19.31282509662906],\n",
              " '[-0.5368421052631579, 0.03315789473684211]': [0],\n",
              " '[-0.5368421052631579, 0.04052631578947369]': [0],\n",
              " '[-0.5368421052631579, 0.04789473684210527]': [0],\n",
              " '[-0.5368421052631579, 0.05526315789473685]': [0],\n",
              " '[-0.5368421052631579, 0.06263157894736843]': [0],\n",
              " '[-0.5368421052631579, 0.07]': [0],\n",
              " '[-0.631578947368421, -0.00368421052631579]': [-19.24124927356388],\n",
              " '[-0.631578947368421, -0.01105263157894737]': [-16.365745449550914],\n",
              " '[-0.631578947368421, -0.01842105263157895]': [-14.201703082950436],\n",
              " '[-0.631578947368421, -0.02578947368421053]': [-17.30708219213434],\n",
              " '[-0.631578947368421, -0.03315789473684211]': [0],\n",
              " '[-0.631578947368421, -0.04052631578947369]': [0],\n",
              " '[-0.631578947368421, -0.04789473684210527]': [0],\n",
              " '[-0.631578947368421, -0.05526315789473685]': [0],\n",
              " '[-0.631578947368421, -0.06263157894736843]': [0],\n",
              " '[-0.631578947368421, -0.07]': [0],\n",
              " '[-0.631578947368421, 0.00368421052631579]': [-18.217878640573478],\n",
              " '[-0.631578947368421, 0.01105263157894737]': [-18.859830768419144],\n",
              " '[-0.631578947368421, 0.01842105263157895]': [-19.322301726588318],\n",
              " '[-0.631578947368421, 0.02578947368421053]': [-19.22416484296821],\n",
              " '[-0.631578947368421, 0.03315789473684211]': [0],\n",
              " '[-0.631578947368421, 0.04052631578947369]': [0],\n",
              " '[-0.631578947368421, 0.04789473684210527]': [0],\n",
              " '[-0.631578947368421, 0.05526315789473685]': [0],\n",
              " '[-0.631578947368421, 0.06263157894736843]': [0],\n",
              " '[-0.631578947368421, 0.07]': [0],\n",
              " '[-0.7263157894736842, -0.00368421052631579]': [-17.877898537546795],\n",
              " '[-0.7263157894736842, -0.01105263157894737]': [-17.284904216329636],\n",
              " '[-0.7263157894736842, -0.01842105263157895]': [-17.279819062606382],\n",
              " '[-0.7263157894736842, -0.02578947368421053]': [-15.151370370513138],\n",
              " '[-0.7263157894736842, -0.03315789473684211]': [0],\n",
              " '[-0.7263157894736842, -0.04052631578947369]': [0],\n",
              " '[-0.7263157894736842, -0.04789473684210527]': [0],\n",
              " '[-0.7263157894736842, -0.05526315789473685]': [0],\n",
              " '[-0.7263157894736842, -0.06263157894736843]': [0],\n",
              " '[-0.7263157894736842, -0.07]': [0],\n",
              " '[-0.7263157894736842, 0.00368421052631579]': [-16.864747700497514],\n",
              " '[-0.7263157894736842, 0.01105263157894737]': [-19.19379021107657],\n",
              " '[-0.7263157894736842, 0.01842105263157895]': [-19.49789099176453],\n",
              " '[-0.7263157894736842, 0.02578947368421053]': [-19.502828719989246],\n",
              " '[-0.7263157894736842, 0.03315789473684211]': [0],\n",
              " '[-0.7263157894736842, 0.04052631578947369]': [0],\n",
              " '[-0.7263157894736842, 0.04789473684210527]': [0],\n",
              " '[-0.7263157894736842, 0.05526315789473685]': [0],\n",
              " '[-0.7263157894736842, 0.06263157894736843]': [0],\n",
              " '[-0.7263157894736842, 0.07]': [0],\n",
              " '[-0.8210526315789474, -0.00368421052631579]': [-19.183357981585445],\n",
              " '[-0.8210526315789474, -0.01105263157894737]': [-19.405434070721807],\n",
              " '[-0.8210526315789474, -0.01842105263157895]': [-15.429305099486166],\n",
              " '[-0.8210526315789474, -0.02578947368421053]': [-6.131637278495617],\n",
              " '[-0.8210526315789474, -0.03315789473684211]': [0],\n",
              " '[-0.8210526315789474, -0.04052631578947369]': [0],\n",
              " '[-0.8210526315789474, -0.04789473684210527]': [0],\n",
              " '[-0.8210526315789474, -0.05526315789473685]': [0],\n",
              " '[-0.8210526315789474, -0.06263157894736843]': [0],\n",
              " '[-0.8210526315789474, -0.07]': [0],\n",
              " '[-0.8210526315789474, 0.00368421052631579]': [-4.093807022964354],\n",
              " '[-0.8210526315789474, 0.01105263157894737]': [-19.636827818116803],\n",
              " '[-0.8210526315789474, 0.01842105263157895]': [-19.554101915881756],\n",
              " '[-0.8210526315789474, 0.02578947368421053]': [0],\n",
              " '[-0.8210526315789474, 0.03315789473684211]': [0],\n",
              " '[-0.8210526315789474, 0.04052631578947369]': [0],\n",
              " '[-0.8210526315789474, 0.04789473684210527]': [0],\n",
              " '[-0.8210526315789474, 0.05526315789473685]': [0],\n",
              " '[-0.8210526315789474, 0.06263157894736843]': [0],\n",
              " '[-0.8210526315789474, 0.07]': [0],\n",
              " '[-0.9157894736842105, -0.00368421052631579]': [-8.906616762434242],\n",
              " '[-0.9157894736842105, -0.01105263157894737]': [-7.862968649750851],\n",
              " '[-0.9157894736842105, -0.01842105263157895]': [-10.748102021565122],\n",
              " '[-0.9157894736842105, -0.02578947368421053]': [0],\n",
              " '[-0.9157894736842105, -0.03315789473684211]': [0],\n",
              " '[-0.9157894736842105, -0.04052631578947369]': [0],\n",
              " '[-0.9157894736842105, -0.04789473684210527]': [0],\n",
              " '[-0.9157894736842105, -0.05526315789473685]': [0],\n",
              " '[-0.9157894736842105, -0.06263157894736843]': [0],\n",
              " '[-0.9157894736842105, -0.07]': [0],\n",
              " '[-0.9157894736842105, 0.00368421052631579]': [-7.5536166821936535],\n",
              " '[-0.9157894736842105, 0.01105263157894737]': [-19.64011483348197],\n",
              " '[-0.9157894736842105, 0.01842105263157895]': [-19.43671894604119],\n",
              " '[-0.9157894736842105, 0.02578947368421053]': [0],\n",
              " '[-0.9157894736842105, 0.03315789473684211]': [0],\n",
              " '[-0.9157894736842105, 0.04052631578947369]': [0],\n",
              " '[-0.9157894736842105, 0.04789473684210527]': [0],\n",
              " '[-0.9157894736842105, 0.05526315789473685]': [0],\n",
              " '[-0.9157894736842105, 0.06263157894736843]': [0],\n",
              " '[-0.9157894736842105, 0.07]': [0],\n",
              " '[-1.0105263157894737, -0.00368421052631579]': [-15.441422597079349],\n",
              " '[-1.0105263157894737, -0.01105263157894737]': [-4.5766947344949145],\n",
              " '[-1.0105263157894737, -0.01842105263157895]': [0],\n",
              " '[-1.0105263157894737, -0.02578947368421053]': [0],\n",
              " '[-1.0105263157894737, -0.03315789473684211]': [0],\n",
              " '[-1.0105263157894737, -0.04052631578947369]': [0],\n",
              " '[-1.0105263157894737, -0.04789473684210527]': [0],\n",
              " '[-1.0105263157894737, -0.05526315789473685]': [0],\n",
              " '[-1.0105263157894737, -0.06263157894736843]': [0],\n",
              " '[-1.0105263157894737, -0.07]': [0],\n",
              " '[-1.0105263157894737, 0.00368421052631579]': [-19.061364633251188],\n",
              " '[-1.0105263157894737, 0.01105263157894737]': [0],\n",
              " '[-1.0105263157894737, 0.01842105263157895]': [0],\n",
              " '[-1.0105263157894737, 0.02578947368421053]': [0],\n",
              " '[-1.0105263157894737, 0.03315789473684211]': [0],\n",
              " '[-1.0105263157894737, 0.04052631578947369]': [0],\n",
              " '[-1.0105263157894737, 0.04789473684210527]': [0],\n",
              " '[-1.0105263157894737, 0.05526315789473685]': [0],\n",
              " '[-1.0105263157894737, 0.06263157894736843]': [0],\n",
              " '[-1.0105263157894737, 0.07]': [0],\n",
              " '[-1.1052631578947367, -0.00368421052631579]': [0],\n",
              " '[-1.1052631578947367, -0.01105263157894737]': [0],\n",
              " '[-1.1052631578947367, -0.01842105263157895]': [0],\n",
              " '[-1.1052631578947367, -0.02578947368421053]': [0],\n",
              " '[-1.1052631578947367, -0.03315789473684211]': [0],\n",
              " '[-1.1052631578947367, -0.04052631578947369]': [0],\n",
              " '[-1.1052631578947367, -0.04789473684210527]': [0],\n",
              " '[-1.1052631578947367, -0.05526315789473685]': [0],\n",
              " '[-1.1052631578947367, -0.06263157894736843]': [0],\n",
              " '[-1.1052631578947367, -0.07]': [0],\n",
              " '[-1.1052631578947367, 0.00368421052631579]': [0],\n",
              " '[-1.1052631578947367, 0.01105263157894737]': [0],\n",
              " '[-1.1052631578947367, 0.01842105263157895]': [0],\n",
              " '[-1.1052631578947367, 0.02578947368421053]': [0],\n",
              " '[-1.1052631578947367, 0.03315789473684211]': [0],\n",
              " '[-1.1052631578947367, 0.04052631578947369]': [0],\n",
              " '[-1.1052631578947367, 0.04789473684210527]': [0],\n",
              " '[-1.1052631578947367, 0.05526315789473685]': [0],\n",
              " '[-1.1052631578947367, 0.06263157894736843]': [0],\n",
              " '[-1.1052631578947367, 0.07]': [0],\n",
              " '[-1.2, -0.00368421052631579]': [0],\n",
              " '[-1.2, -0.01105263157894737]': [0],\n",
              " '[-1.2, -0.01842105263157895]': [0],\n",
              " '[-1.2, -0.02578947368421053]': [0],\n",
              " '[-1.2, -0.03315789473684211]': [0],\n",
              " '[-1.2, -0.04052631578947369]': [0],\n",
              " '[-1.2, -0.04789473684210527]': [0],\n",
              " '[-1.2, -0.05526315789473685]': [0],\n",
              " '[-1.2, -0.06263157894736843]': [0],\n",
              " '[-1.2, -0.07]': [0],\n",
              " '[-1.2, 0.00368421052631579]': [0],\n",
              " '[-1.2, 0.01105263157894737]': [0],\n",
              " '[-1.2, 0.01842105263157895]': [0],\n",
              " '[-1.2, 0.02578947368421053]': [0],\n",
              " '[-1.2, 0.03315789473684211]': [0],\n",
              " '[-1.2, 0.04052631578947369]': [0],\n",
              " '[-1.2, 0.04789473684210527]': [0],\n",
              " '[-1.2, 0.05526315789473685]': [0],\n",
              " '[-1.2, 0.06263157894736843]': [0],\n",
              " '[-1.2, 0.07]': [0],\n",
              " '[0.03157894736842093, -0.00368421052631579]': [0],\n",
              " '[0.03157894736842093, -0.01105263157894737]': [0],\n",
              " '[0.03157894736842093, -0.01842105263157895]': [0],\n",
              " '[0.03157894736842093, -0.02578947368421053]': [0],\n",
              " '[0.03157894736842093, -0.03315789473684211]': [0],\n",
              " '[0.03157894736842093, -0.04052631578947369]': [0],\n",
              " '[0.03157894736842093, -0.04789473684210527]': [0],\n",
              " '[0.03157894736842093, -0.05526315789473685]': [0],\n",
              " '[0.03157894736842093, -0.06263157894736843]': [0],\n",
              " '[0.03157894736842093, -0.07]': [0],\n",
              " '[0.03157894736842093, 0.00368421052631579]': [0],\n",
              " '[0.03157894736842093, 0.01105263157894737]': [0],\n",
              " '[0.03157894736842093, 0.01842105263157895]': [0],\n",
              " '[0.03157894736842093, 0.02578947368421053]': [0],\n",
              " '[0.03157894736842093, 0.03315789473684211]': [0],\n",
              " '[0.03157894736842093, 0.04052631578947369]': [0],\n",
              " '[0.03157894736842093, 0.04789473684210527]': [0],\n",
              " '[0.03157894736842093, 0.05526315789473685]': [0],\n",
              " '[0.03157894736842093, 0.06263157894736843]': [0],\n",
              " '[0.03157894736842093, 0.07]': [0],\n",
              " '[0.12631578947368416, -0.00368421052631579]': [0],\n",
              " '[0.12631578947368416, -0.01105263157894737]': [0],\n",
              " '[0.12631578947368416, -0.01842105263157895]': [0],\n",
              " '[0.12631578947368416, -0.02578947368421053]': [0],\n",
              " '[0.12631578947368416, -0.03315789473684211]': [0],\n",
              " '[0.12631578947368416, -0.04052631578947369]': [0],\n",
              " '[0.12631578947368416, -0.04789473684210527]': [0],\n",
              " '[0.12631578947368416, -0.05526315789473685]': [0],\n",
              " '[0.12631578947368416, -0.06263157894736843]': [0],\n",
              " '[0.12631578947368416, -0.07]': [0],\n",
              " '[0.12631578947368416, 0.00368421052631579]': [0],\n",
              " '[0.12631578947368416, 0.01105263157894737]': [0],\n",
              " '[0.12631578947368416, 0.01842105263157895]': [0],\n",
              " '[0.12631578947368416, 0.02578947368421053]': [0],\n",
              " '[0.12631578947368416, 0.03315789473684211]': [0],\n",
              " '[0.12631578947368416, 0.04052631578947369]': [0],\n",
              " '[0.12631578947368416, 0.04789473684210527]': [0],\n",
              " '[0.12631578947368416, 0.05526315789473685]': [0],\n",
              " '[0.12631578947368416, 0.06263157894736843]': [0],\n",
              " '[0.12631578947368416, 0.07]': [0],\n",
              " '[0.22105263157894717, -0.00368421052631579]': [0],\n",
              " '[0.22105263157894717, -0.01105263157894737]': [0],\n",
              " '[0.22105263157894717, -0.01842105263157895]': [0],\n",
              " '[0.22105263157894717, -0.02578947368421053]': [0],\n",
              " '[0.22105263157894717, -0.03315789473684211]': [0],\n",
              " '[0.22105263157894717, -0.04052631578947369]': [0],\n",
              " '[0.22105263157894717, -0.04789473684210527]': [0],\n",
              " '[0.22105263157894717, -0.05526315789473685]': [0],\n",
              " '[0.22105263157894717, -0.06263157894736843]': [0],\n",
              " '[0.22105263157894717, -0.07]': [0],\n",
              " '[0.22105263157894717, 0.00368421052631579]': [0],\n",
              " '[0.22105263157894717, 0.01105263157894737]': [0],\n",
              " '[0.22105263157894717, 0.01842105263157895]': [0],\n",
              " '[0.22105263157894717, 0.02578947368421053]': [0],\n",
              " '[0.22105263157894717, 0.03315789473684211]': [0],\n",
              " '[0.22105263157894717, 0.04052631578947369]': [0],\n",
              " '[0.22105263157894717, 0.04789473684210527]': [0],\n",
              " '[0.22105263157894717, 0.05526315789473685]': [0],\n",
              " '[0.22105263157894717, 0.06263157894736843]': [0],\n",
              " '[0.22105263157894717, 0.07]': [0],\n",
              " '[0.3157894736842104, -0.00368421052631579]': [0],\n",
              " '[0.3157894736842104, -0.01105263157894737]': [0],\n",
              " '[0.3157894736842104, -0.01842105263157895]': [0],\n",
              " '[0.3157894736842104, -0.02578947368421053]': [0],\n",
              " '[0.3157894736842104, -0.03315789473684211]': [0],\n",
              " '[0.3157894736842104, -0.04052631578947369]': [0],\n",
              " '[0.3157894736842104, -0.04789473684210527]': [0],\n",
              " '[0.3157894736842104, -0.05526315789473685]': [0],\n",
              " '[0.3157894736842104, -0.06263157894736843]': [0],\n",
              " '[0.3157894736842104, -0.07]': [0],\n",
              " '[0.3157894736842104, 0.00368421052631579]': [0],\n",
              " '[0.3157894736842104, 0.01105263157894737]': [0],\n",
              " '[0.3157894736842104, 0.01842105263157895]': [0],\n",
              " '[0.3157894736842104, 0.02578947368421053]': [0],\n",
              " '[0.3157894736842104, 0.03315789473684211]': [0],\n",
              " '[0.3157894736842104, 0.04052631578947369]': [0],\n",
              " '[0.3157894736842104, 0.04789473684210527]': [0],\n",
              " '[0.3157894736842104, 0.05526315789473685]': [0],\n",
              " '[0.3157894736842104, 0.06263157894736843]': [0],\n",
              " '[0.3157894736842104, 0.07]': [0],\n",
              " '[0.41052631578947363, -0.00368421052631579]': [0],\n",
              " '[0.41052631578947363, -0.01105263157894737]': [0],\n",
              " '[0.41052631578947363, -0.01842105263157895]': [0],\n",
              " '[0.41052631578947363, -0.02578947368421053]': [0],\n",
              " '[0.41052631578947363, -0.03315789473684211]': [0],\n",
              " '[0.41052631578947363, -0.04052631578947369]': [0],\n",
              " '[0.41052631578947363, -0.04789473684210527]': [0],\n",
              " '[0.41052631578947363, -0.05526315789473685]': [0],\n",
              " '[0.41052631578947363, -0.06263157894736843]': [0],\n",
              " '[0.41052631578947363, -0.07]': [0],\n",
              " '[0.41052631578947363, 0.00368421052631579]': [0],\n",
              " '[0.41052631578947363, 0.01105263157894737]': [0],\n",
              " '[0.41052631578947363, 0.01842105263157895]': [0],\n",
              " '[0.41052631578947363, 0.02578947368421053]': [0],\n",
              " '[0.41052631578947363, 0.03315789473684211]': [0],\n",
              " '[0.41052631578947363, 0.04052631578947369]': [0],\n",
              " '[0.41052631578947363, 0.04789473684210527]': [0],\n",
              " '[0.41052631578947363, 0.05526315789473685]': [0],\n",
              " '[0.41052631578947363, 0.06263157894736843]': [0],\n",
              " '[0.41052631578947363, 0.07]': [0],\n",
              " '[0.5052631578947366, -0.00368421052631579]': [0],\n",
              " '[0.5052631578947366, -0.01105263157894737]': [0],\n",
              " '[0.5052631578947366, -0.01842105263157895]': [0],\n",
              " '[0.5052631578947366, -0.02578947368421053]': [0],\n",
              " '[0.5052631578947366, -0.03315789473684211]': [0],\n",
              " '[0.5052631578947366, -0.04052631578947369]': [0],\n",
              " '[0.5052631578947366, -0.04789473684210527]': [0],\n",
              " '[0.5052631578947366, -0.05526315789473685]': [0],\n",
              " '[0.5052631578947366, -0.06263157894736843]': [0],\n",
              " '[0.5052631578947366, -0.07]': [0],\n",
              " '[0.5052631578947366, 0.00368421052631579]': [0],\n",
              " '[0.5052631578947366, 0.01105263157894737]': [0],\n",
              " '[0.5052631578947366, 0.01842105263157895]': [0],\n",
              " '[0.5052631578947366, 0.02578947368421053]': [0],\n",
              " '[0.5052631578947366, 0.03315789473684211]': [0],\n",
              " '[0.5052631578947366, 0.04052631578947369]': [0],\n",
              " '[0.5052631578947366, 0.04789473684210527]': [0],\n",
              " '[0.5052631578947366, 0.05526315789473685]': [0],\n",
              " '[0.5052631578947366, 0.06263157894736843]': [0],\n",
              " '[0.5052631578947366, 0.07]': [0],\n",
              " '[0.6, -0.00368421052631579]': [0],\n",
              " '[0.6, -0.01105263157894737]': [0],\n",
              " '[0.6, -0.01842105263157895]': [0],\n",
              " '[0.6, -0.02578947368421053]': [0],\n",
              " '[0.6, -0.03315789473684211]': [0],\n",
              " '[0.6, -0.04052631578947369]': [0],\n",
              " '[0.6, -0.04789473684210527]': [0],\n",
              " '[0.6, -0.05526315789473685]': [0],\n",
              " '[0.6, -0.06263157894736843]': [0],\n",
              " '[0.6, -0.07]': [0],\n",
              " '[0.6, 0.00368421052631579]': [0],\n",
              " '[0.6, 0.01105263157894737]': [0],\n",
              " '[0.6, 0.01842105263157895]': [0],\n",
              " '[0.6, 0.02578947368421053]': [0],\n",
              " '[0.6, 0.03315789473684211]': [0],\n",
              " '[0.6, 0.04052631578947369]': [0],\n",
              " '[0.6, 0.04789473684210527]': [0],\n",
              " '[0.6, 0.05526315789473685]': [0],\n",
              " '[0.6, 0.06263157894736843]': [0],\n",
              " '[0.6, 0.07]': [0]}"
            ]
          },
          "metadata": {
            "tags": []
          },
          "execution_count": 25
        }
      ]
    },
    {
      "cell_type": "markdown",
      "metadata": {
        "id": "1Mxml0Nj2Amu"
      },
      "source": [
        "## n-Step SARSA (on-policy) Control"
      ]
    },
    {
      "cell_type": "code",
      "metadata": {
        "id": "c4EZEM91iqqz"
      },
      "source": [
        "def update_pi(Q,pi,s, t):\n",
        "    epsilon = max(0.001, min(0.015, 1.0 - np.log((t+1)/220.)))\n",
        "    pi[str(s)] = [epsilon/3,epsilon/3,epsilon/3 ]\n",
        "    pi[str(s)][np.argmax(Q[str(s)])] += 1-epsilon \n",
        "    return pi\n",
        "\n",
        "def n_SARSA(n, Q, maxEpisode, pi):\n",
        "    avg_returns = []\n",
        "    discount = 0.95\n",
        "    for i in range(maxEpisode):\n",
        "        R = [0]\n",
        "        S = []\n",
        "        A = []\n",
        "        t = 0\n",
        "        s = disc_state(env.reset())\n",
        "        a = action_selection(s,t,Q)\n",
        "        S.append(s)\n",
        "        A.append(a)\n",
        "        T = 10000\n",
        "        for t in range(T):\n",
        "            if t < T:\n",
        "                s_, r, gameState, _ = env.step(A[t])\n",
        "                R.append(r)\n",
        "                S.append(disc_state(s_))\n",
        "                if gameState == True:\n",
        "                    T = t+1\n",
        "                else:\n",
        "                    a_ = action_selection(disc_state(S[t+1]),t+1,Q)\n",
        "                    A.append(a_)\n",
        "            tau = t - n + 1 \n",
        "            if tau >= 0:\n",
        "                G = 0\n",
        "                for i in range(tau+1,min(tau+n,T)+1):\n",
        "                    G += (discount**(i-tau-1))*R[i]\n",
        "                if tau + n < T:\n",
        "\n",
        "                    G += (discount**n)*Q[str(S[tau+n])][A[tau+n]]\n",
        "                Q[str(S[tau])][A[tau]] += max(0.4, min(0.1, 1.0 - np.log((t+1)/350.)))*(G - Q[str(S[tau])][A[tau]])\n",
        "                update_pi(Q, pi, S[tau], t)\n",
        "            if tau == T - 1:\n",
        "                break\n",
        "            s = s_\n",
        "            a = a_\n",
        "\n",
        "        returns = []\n",
        "        for i in range(5):\n",
        "            returns.append(test_policy(Q))\n",
        "        avg_returns.append(np.mean(returns))\n",
        "    plt.plot(avg_returns)\n",
        "    plt.title('n-step SARSA average return over training epsiodes')\n",
        "    plt.ylabel('Average Reward Until Completion')\n",
        "    plt.xlabel('Training episodes')\n",
        "    plt.show()\n",
        "    \n",
        "    return Q\n",
        "\n"
      ],
      "execution_count": null,
      "outputs": []
    },
    {
      "cell_type": "code",
      "metadata": {
        "colab": {
          "base_uri": "https://localhost:8080/",
          "height": 295
        },
        "id": "A_K-sQfiyrSm",
        "outputId": "02db23d6-328c-4575-c7cc-d870244e1f91"
      },
      "source": [
        "Q = {}\n",
        "pi = {}\n",
        "for state in list(s):\n",
        "    Q[str(state)] = [0,0,0]\n",
        "    pi[str(state)] = [0,0,0]\n",
        "    pi[str(state)][np.argmax(Q[str(state)])] = 1\n",
        "\n",
        "\n",
        "Q_n_SARSA_4 = n_SARSA(4,Q,3000,pi)"
      ],
      "execution_count": null,
      "outputs": [
        {
          "output_type": "display_data",
          "data": {
            "image/png": "[encoded data removed]",
            "text/plain": [
              "<Figure size 432x288 with 1 Axes>"
            ]
          },
          "metadata": {
            "tags": [],
            "needs_background": "light"
          }
        }
      ]
    },
    {
      "cell_type": "markdown",
      "metadata": {
        "id": "NdHD4wzKDuVn"
      },
      "source": [
        "## Off-policy Tree Backup Control"
      ]
    },
    {
      "cell_type": "code",
      "metadata": {
        "id": "kNRyObFbEIjl"
      },
      "source": [
        "def update_greedy_pi(Q,pi,s, t):\n",
        "    pi[str(s)] = [0,0,0]\n",
        "    pi[str(s)][np.argmax(Q[str(s)])] += 1\n",
        "    return pi\n",
        "\n",
        "\n",
        "def off_pol_tree(n, Q, maxEpisode, pi):\n",
        "    avg_returns = []\n",
        "    discount = 0.95\n",
        "    for i in range(maxEpisode):\n",
        "        S = []\n",
        "        A = []\n",
        "        R = [0]\n",
        "        s = disc_state(env.reset())\n",
        "        #a = env.action_space.sample()\n",
        "        t=0\n",
        "        a = action_selection(s,t,Q)\n",
        "        S.append(s)\n",
        "        A.append(a)\n",
        "        T = 10000   \n",
        "        for t in range(T):\n",
        "            if t < T:\n",
        "                s_, r, gameState, _ = env.step(A[t])\n",
        "                S.append(disc_state(s_))\n",
        "                R.append(r)\n",
        "                if gameState == True:\n",
        "                    T = t + 1\n",
        "                else:\n",
        "                    A.append(action_selection(str(S[t+1]),t,Q))\n",
        "            tau = t + 1 - n\n",
        "            if tau >= 0:\n",
        "                G=0\n",
        "                if t+1 >= T:\n",
        "                    G = R[T]\n",
        "                else:\n",
        "                    G = R[t+1]+discount*(r + discount*(pi[str(S[t+1])][0]*Q[str(S[t+1])][0]+pi[str(S[t+1])][1]*Q[str(S[t+1])][1]+pi[str(S[t+1])][2]*Q[str(S[t+1])][2]))\n",
        "                for k in range(min(t,T-1),tau+1,-1):\n",
        "                    G += R[k]\n",
        "                    if A[k] == 0:\n",
        "                        G += discount*(pi[str(S[k])][1]*Q[str(S[k])][1] + pi[str(S[k])][2]*Q[str(S[k])][2]) + discount*pi[str(S[k])][0]*G\n",
        "                    elif A[k] == 1:\n",
        "                        G += discount*(pi[str(S[k])][0]*Q[str(S[k])][0] + pi[str(S[k])][2]*Q[str(S[k])][2]) + discount*pi[str(S[k])][1]*G\n",
        "                    elif A[k] == 2:\n",
        "                        G += discount*(pi[str(S[k])][0]*Q[str(S[k])][0] + pi[str(S[k])][1]*Q[str(S[k])][1]) + discount*pi[str(S[k])][2]*G  \n",
        "                Q[str(S[tau])][A[tau]] += max(0.4, min(0.1, 1.0 - np.log((t+1)/350.)))*(G - Q[str(S[tau])][A[tau]])\n",
        "\n",
        "                pi = update_greedy_pi(Q, pi, str(S[tau]),t)\n",
        "            if tau == T - 1:\n",
        "                break\n",
        "            s = s_\n",
        "        returns = []\n",
        "        for i in range(5):\n",
        "            returns.append(test_policy(Q))\n",
        "        avg_returns.append(np.mean(returns))\n",
        "    plt.plot(avg_returns)\n",
        "    plt.title('off-policy Tree Backup average return over training epsiodes')\n",
        "    plt.ylabel('Average Reward Until Completion')\n",
        "    plt.xlabel('Training episodes')\n",
        "    plt.show()\n",
        "    return Q\n",
        "\n",
        "                "
      ],
      "execution_count": null,
      "outputs": []
    },
    {
      "cell_type": "code",
      "metadata": {
        "colab": {
          "base_uri": "https://localhost:8080/",
          "height": 295
        },
        "id": "uqtvdS6mK6Sx",
        "outputId": "ad1a7aa8-9c00-4d2c-cf04-06df2f198b04"
      },
      "source": [
        "Q = {}\n",
        "pi = {}\n",
        "for state in list(s):\n",
        "    Q[str(state)] = [0,0,0]\n",
        "    pi[str(state)] = [0,0,0]\n",
        "    pi[str(state)][np.argmax(Q[str(state)])] = 1\n",
        "\n",
        "\n",
        "Q_tree_2 = off_pol_tree(2,Q,3000,pi)"
      ],
      "execution_count": null,
      "outputs": [
        {
          "output_type": "display_data",
          "data": {
            "image/png": "[encoded data removed]",
            "text/plain": [
              "<Figure size 432x288 with 1 Axes>"
            ]
          },
          "metadata": {
            "tags": [],
            "needs_background": "light"
          }
        }
      ]
    },
    {
      "cell_type": "markdown",
      "metadata": {
        "id": "sJGomqkz_JvX"
      },
      "source": [
        "# Task 2\n",
        "Compute and compare TD(0,2,3,4) using n-SARSA. We can use our work from exercise two which is a general algorithm for TD(n) using n-SARSA where n = {0,2,3,4}"
      ]
    },
    {
      "cell_type": "markdown",
      "metadata": {
        "id": "pz6FkOH6RMGH"
      },
      "source": [
        "## TD(0) On-policy n-SARSA Control \n",
        "\n",
        "This was calculated already in Task 1 so we will use the results for analysis and comparison with the algorithms below. "
      ]
    },
    {
      "cell_type": "code",
      "metadata": {
        "colab": {
          "base_uri": "https://localhost:8080/"
        },
        "id": "P75zg4NTR8WN",
        "outputId": "ff7a4b20-0ebf-4328-8148-7e411ea61ea1"
      },
      "source": [
        "Q_n_SARSA_0_results = []\n",
        "for i in range(200):\n",
        "    result = test_policy(Q_on_pol_SARSA)\n",
        "    Q_n_SARSA_0_results.append(result)\n",
        "Q_n_SARSA_0_avg = np.mean(Q_n_SARSA_0_results)\n",
        "print('The average episode length until termination for TD(0) using n-SARSA is: ', Q_n_SARSA_0_avg)"
      ],
      "execution_count": null,
      "outputs": [
        {
          "output_type": "stream",
          "text": [
            "The average episode length until termination for TD(0) using n-SARSA is:  175.86\n"
          ],
          "name": "stdout"
        }
      ]
    },
    {
      "cell_type": "markdown",
      "metadata": {
        "id": "9seU9E1CQ6iy"
      },
      "source": [
        "## TD(2) On-policy n-SARSA Control "
      ]
    },
    {
      "cell_type": "code",
      "metadata": {
        "colab": {
          "base_uri": "https://localhost:8080/",
          "height": 295
        },
        "id": "ZcZ3vUPv_k4T",
        "outputId": "2f2d9358-76da-4a92-df4e-871549db8db2"
      },
      "source": [
        "Q = {}\n",
        "pi = {}\n",
        "for state in list(s):\n",
        "    Q[str(state)] = [0,0,0]\n",
        "    pi[str(state)] = [0,0,0]\n",
        "    pi[str(state)][np.argmax(Q[str(state)])] = 1\n",
        "\n",
        "\n",
        "Q_n_SARSA_2 = n_SARSA(2,Q,3000,pi)"
      ],
      "execution_count": null,
      "outputs": [
        {
          "output_type": "display_data",
          "data": {
            "image/png": "[encoded data removed]",
            "text/plain": [
              "<Figure size 432x288 with 1 Axes>"
            ]
          },
          "metadata": {
            "tags": [],
            "needs_background": "light"
          }
        }
      ]
    },
    {
      "cell_type": "code",
      "metadata": {
        "colab": {
          "base_uri": "https://localhost:8080/"
        },
        "id": "cJ6jb5rCLkSa",
        "outputId": "224bee18-2f80-41e2-d05f-af0173ee16d3"
      },
      "source": [
        "Q_n_SARSA_2_results = []\n",
        "for i in range(200):\n",
        "    result = test_policy(Q_n_SARSA_2)\n",
        "    Q_n_SARSA_2_results.append(result)\n",
        "Q_n_SARSA_2_avg = np.mean(Q_n_SARSA_2_results)\n",
        "print('The average episode length until termination for TD(2) using n-SARSA is: ', Q_n_SARSA_2_avg)\n"
      ],
      "execution_count": null,
      "outputs": [
        {
          "output_type": "stream",
          "text": [
            "The average episode length until termination for TD(2) using n-SARSA is:  200.0\n"
          ],
          "name": "stdout"
        }
      ]
    },
    {
      "cell_type": "markdown",
      "metadata": {
        "id": "eQAjWssARZ3x"
      },
      "source": [
        "## TD(3) On-policy n-SARSA Control "
      ]
    },
    {
      "cell_type": "code",
      "metadata": {
        "colab": {
          "base_uri": "https://localhost:8080/",
          "height": 295
        },
        "id": "3j5xCYb0_mVh",
        "outputId": "767af6e1-1493-4113-e5bd-13974fecbff3"
      },
      "source": [
        "Q = {}\n",
        "pi = {}\n",
        "for state in list(s):\n",
        "    Q[str(state)] = [0,0,0]\n",
        "    pi[str(state)] = [0,0,0]\n",
        "    pi[str(state)][np.argmax(Q[str(state)])] = 1\n",
        "\n",
        "\n",
        "Q_n_SARSA_3 = n_SARSA(3,Q,3000,pi)"
      ],
      "execution_count": null,
      "outputs": [
        {
          "output_type": "display_data",
          "data": {
            "image/png": "[encoded data removed]",
            "text/plain": [
              "<Figure size 432x288 with 1 Axes>"
            ]
          },
          "metadata": {
            "tags": [],
            "needs_background": "light"
          }
        }
      ]
    },
    {
      "cell_type": "code",
      "metadata": {
        "colab": {
          "base_uri": "https://localhost:8080/"
        },
        "id": "0gnontVHM8_U",
        "outputId": "ae3aa7e7-5e96-4f29-86c4-8b3901eae12d"
      },
      "source": [
        "Q_n_SARSA_3_results = []\n",
        "for i in range(200):\n",
        "    result = test_policy(Q_n_SARSA_3)\n",
        "    Q_n_SARSA_3_results.append(result)\n",
        "Q_n_SARSA_3_avg = np.mean(Q_n_SARSA_3_results)\n",
        "print('The average episode length until termination for TD(3) using n-SARSA is: ', Q_n_SARSA_3_avg)\n"
      ],
      "execution_count": null,
      "outputs": [
        {
          "output_type": "stream",
          "text": [
            "The average episode length until termination for TD(3) using n-SARSA is:  191.39\n"
          ],
          "name": "stdout"
        }
      ]
    },
    {
      "cell_type": "markdown",
      "metadata": {
        "id": "DJv49BpNRfUe"
      },
      "source": [
        "## TD(4) On-policy n-SARSA Control "
      ]
    },
    {
      "cell_type": "markdown",
      "metadata": {
        "id": "_ga_0JXY7UxD"
      },
      "source": [
        "n=4 was run previously in Task 1 so we will use that policy to evaluate its performance."
      ]
    },
    {
      "cell_type": "code",
      "metadata": {
        "colab": {
          "base_uri": "https://localhost:8080/"
        },
        "id": "8bcBi8VsNFtq",
        "outputId": "de6b217f-19d4-441c-8b0b-c3e13d30d3a4"
      },
      "source": [
        "Q_n_SARSA_4_results = []\n",
        "for i in range(200):\n",
        "    result = test_policy(Q_n_SARSA_4)\n",
        "    Q_n_SARSA_4_results.append(result)\n",
        "Q_n_SARSA_4_avg = np.mean(Q_n_SARSA_4_results)\n",
        "print('The average episode length until termination for TD(3) using n-SARSA is: ', Q_n_SARSA_4_avg)"
      ],
      "execution_count": null,
      "outputs": [
        {
          "output_type": "stream",
          "text": [
            "The average episode length until termination for TD(3) using n-SARSA is:  162.36\n"
          ],
          "name": "stdout"
        }
      ]
    },
    {
      "cell_type": "markdown",
      "metadata": {
        "id": "nT0zZP8pSHlS"
      },
      "source": [
        "##Summary of Results\n",
        "\n",
        "discount = 0.95\n",
        "\n",
        "LR = max(0.4, min(0.1, 1.0 - log((t+1)/350.)))\n",
        "\n",
        "training episodes = 3000"
      ]
    },
    {
      "cell_type": "code",
      "metadata": {
        "colab": {
          "base_uri": "https://localhost:8080/",
          "height": 168
        },
        "id": "do-Dpz1JR3cM",
        "outputId": "a9ea016e-f05f-4260-8d65-0f164f2b53bc"
      },
      "source": [
        "pd.DataFrame(data = [Q_n_SARSA_0_avg,Q_n_SARSA_2_avg,Q_n_SARSA_3_avg,Q_n_SARSA_4_avg], index = ['TD(0) On-policy SARSA','TD(2) On-policy SARSA','TD(3) On-policy SARSA','TD(4) On-policy SARSA'], columns = ['Average episode length (200 episodes)'])"
      ],
      "execution_count": null,
      "outputs": [
        {
          "output_type": "execute_result",
          "data": {
            "text/html": [
              "<div>\n",
              "<style scoped>\n",
              "    .dataframe tbody tr th:only-of-type {\n",
              "        vertical-align: middle;\n",
              "    }\n",
              "\n",
              "    .dataframe tbody tr th {\n",
              "        vertical-align: top;\n",
              "    }\n",
              "\n",
              "    .dataframe thead th {\n",
              "        text-align: right;\n",
              "    }\n",
              "</style>\n",
              "<table border=\"1\" class=\"dataframe\">\n",
              "  <thead>\n",
              "    <tr style=\"text-align: right;\">\n",
              "      <th></th>\n",
              "      <th>Average episode length (200 episodes)</th>\n",
              "    </tr>\n",
              "  </thead>\n",
              "  <tbody>\n",
              "    <tr>\n",
              "      <th>TD(0) On-policy SARSA</th>\n",
              "      <td>175.86</td>\n",
              "    </tr>\n",
              "    <tr>\n",
              "      <th>TD(2) On-policy SARSA</th>\n",
              "      <td>200.00</td>\n",
              "    </tr>\n",
              "    <tr>\n",
              "      <th>TD(3) On-policy SARSA</th>\n",
              "      <td>191.39</td>\n",
              "    </tr>\n",
              "    <tr>\n",
              "      <th>TD(4) On-policy SARSA</th>\n",
              "      <td>162.36</td>\n",
              "    </tr>\n",
              "  </tbody>\n",
              "</table>\n",
              "</div>"
            ],
            "text/plain": [
              "                       Average episode length (200 episodes)\n",
              "TD(0) On-policy SARSA                                 175.86\n",
              "TD(2) On-policy SARSA                                 200.00\n",
              "TD(3) On-policy SARSA                                 191.39\n",
              "TD(4) On-policy SARSA                                 162.36"
            ]
          },
          "metadata": {
            "tags": []
          },
          "execution_count": 37
        }
      ]
    },
    {
      "cell_type": "markdown",
      "metadata": {
        "id": "v-n0s0UsyScG"
      },
      "source": [
        "As shown in the table above TD(4) for on-policy SARSA had the best results. However it is noted that TD(2) and TD(3) had worse results than TD(0) which is odd but can likely be explained due to the inherent variance of n-SARSA algorithms compared to expected n-SARSA. As seen in the figures above the algorithm had many training episodes which performed poorly (return 200) over a 5 episode average. Given computational limitations only 5 episodes were used to test a policy at each training episode however a larger number say 100 should be used to get a more accurate estimate of the performance of the policy. If this was done I believe we would see TD(2) perform better than TD(0) and TD(3) perform better than TD(2) but less than TD(4).\n",
        "\n",
        "Additionally the learning rate could greatly affect the performance and make certain n values better than others, in this analysis we represented the learning rate as a function of time such that it would start small but increase as t increased."
      ]
    },
    {
      "cell_type": "markdown",
      "metadata": {
        "id": "65K0v-niNVWy"
      },
      "source": [
        "#Bonus Task 3"
      ]
    },
    {
      "cell_type": "markdown",
      "metadata": {
        "id": "H9eYcM3hQpH7"
      },
      "source": [
        "##TD(2) Off-policy Tree Backup Control"
      ]
    },
    {
      "cell_type": "markdown",
      "metadata": {
        "id": "KQ1pgpPk80fq"
      },
      "source": [
        "TD(2) for off-policy tree backup was run in Exercise 2 so we will use that policy and evaluate its performance. "
      ]
    },
    {
      "cell_type": "code",
      "metadata": {
        "colab": {
          "base_uri": "https://localhost:8080/"
        },
        "id": "U5npTdQCNonI",
        "outputId": "08cfc4ea-a186-4a55-e3f7-953e058021b8"
      },
      "source": [
        "Q_tree_2_results = []\n",
        "for i in range(200):\n",
        "    result = test_policy(Q_tree_2)\n",
        "    Q_tree_2_results.append(result)\n",
        "Q_tree_2_avg = np.mean(Q_tree_2_results)\n",
        "print('The average episode length until termination for TD(2) using Tree Backup is: ', Q_tree_2_avg)"
      ],
      "execution_count": null,
      "outputs": [
        {
          "output_type": "stream",
          "text": [
            "The average episode length until termination for TD(2) using Tree Backup is:  196.605\n"
          ],
          "name": "stdout"
        }
      ]
    },
    {
      "cell_type": "markdown",
      "metadata": {
        "id": "14W5_SREQyqj"
      },
      "source": [
        "##TD(3) Off-policy Tree Backup Control"
      ]
    },
    {
      "cell_type": "code",
      "metadata": {
        "colab": {
          "base_uri": "https://localhost:8080/",
          "height": 295
        },
        "id": "or1ZNkscP2Km",
        "outputId": "8592b3e7-1d80-4f86-9796-77ad218a01bc"
      },
      "source": [
        "Q = {}\n",
        "pi = {}\n",
        "for state in list(s):\n",
        "    Q[str(state)] = [0,0,0]\n",
        "    pi[str(state)] = [0,0,0]\n",
        "    pi[str(state)][np.argmax(Q[str(state)])] = 1\n",
        "\n",
        "\n",
        "Q_tree_3 = off_pol_tree(3,Q,3000,pi)"
      ],
      "execution_count": null,
      "outputs": [
        {
          "output_type": "display_data",
          "data": {
            "image/png": "[encoded data removed]",
            "text/plain": [
              "<Figure size 432x288 with 1 Axes>"
            ]
          },
          "metadata": {
            "tags": [],
            "needs_background": "light"
          }
        }
      ]
    },
    {
      "cell_type": "code",
      "metadata": {
        "colab": {
          "base_uri": "https://localhost:8080/"
        },
        "id": "-83dvc4hP7gc",
        "outputId": "e2313837-597e-4812-aedc-5da4747565ce"
      },
      "source": [
        "Q_tree_3_results = []\n",
        "for i in range(200):\n",
        "    result = test_policy(Q_tree_3)\n",
        "    Q_tree_3_results.append(result)\n",
        "Q_tree_3_avg = np.mean(Q_tree_3_results)\n",
        "print('The average episode length until termination for TD(3) using Tree Backup is: ', Q_tree_3_avg)"
      ],
      "execution_count": null,
      "outputs": [
        {
          "output_type": "stream",
          "text": [
            "The average episode length until termination for TD(3) using Tree Backup is:  184.815\n"
          ],
          "name": "stdout"
        }
      ]
    },
    {
      "cell_type": "markdown",
      "metadata": {
        "id": "VmkHcXnLQ02m"
      },
      "source": [
        "##TD(4) Off-policy Tree Backup Control"
      ]
    },
    {
      "cell_type": "code",
      "metadata": {
        "colab": {
          "base_uri": "https://localhost:8080/",
          "height": 295
        },
        "id": "kCTOQHcPQSig",
        "outputId": "eb87eb51-38ec-4db5-fd91-eac01c0f9611"
      },
      "source": [
        "Q = {}\n",
        "pi = {}\n",
        "for state in list(s):\n",
        "    Q[str(state)] = [0,0,0]\n",
        "    pi[str(state)] = [0,0,0]\n",
        "    pi[str(state)][np.argmax(Q[str(state)])] = 1\n",
        "\n",
        "\n",
        "Q_tree_4 = off_pol_tree(4,Q,3000,pi)"
      ],
      "execution_count": null,
      "outputs": [
        {
          "output_type": "display_data",
          "data": {
            "image/png": "[encoded data removed]",
            "text/plain": [
              "<Figure size 432x288 with 1 Axes>"
            ]
          },
          "metadata": {
            "tags": [],
            "needs_background": "light"
          }
        }
      ]
    },
    {
      "cell_type": "code",
      "metadata": {
        "colab": {
          "base_uri": "https://localhost:8080/"
        },
        "id": "36klE74VQUvq",
        "outputId": "6a77cbd7-9395-44f9-c8b8-f416dc842599"
      },
      "source": [
        "Q_tree_4_results = []\n",
        "for i in range(200):\n",
        "    result = test_policy(Q_tree_4)\n",
        "    Q_tree_4_results.append(result)\n",
        "Q_tree_4_avg = np.mean(Q_tree_4_results)\n",
        "print('The average episode length until termination for TD(4) using Tree Backup is: ', Q_tree_4_avg)"
      ],
      "execution_count": null,
      "outputs": [
        {
          "output_type": "stream",
          "text": [
            "The average episode length until termination for TD(4) using Tree Backup is:  200.0\n"
          ],
          "name": "stdout"
        }
      ]
    },
    {
      "cell_type": "markdown",
      "metadata": {
        "id": "WY6-zHBnQ4SS"
      },
      "source": [
        "##Summary of Results\n",
        "\n",
        "discount = 0.95\n",
        "\n",
        "LR = max(0.4, min(0.1, 1.0 - log((t+1)/350.)))\n",
        "\n",
        "training episodes = 3000"
      ]
    },
    {
      "cell_type": "code",
      "metadata": {
        "colab": {
          "base_uri": "https://localhost:8080/",
          "height": 138
        },
        "id": "Dkda_tPZaEit",
        "outputId": "df3d14cc-424b-4fde-85bf-d2c181fc98de"
      },
      "source": [
        "pd.DataFrame(data = [Q_tree_2_avg,Q_tree_3_avg,Q_tree_4_avg], index = ['TD(2) Off-policy Tree Backup','TD(3) Off-policy Tree Backup','TD(4) Off-policy Tree Backup'], columns = ['Average episode length (200 episodes)'])"
      ],
      "execution_count": null,
      "outputs": [
        {
          "output_type": "execute_result",
          "data": {
            "text/html": [
              "<div>\n",
              "<style scoped>\n",
              "    .dataframe tbody tr th:only-of-type {\n",
              "        vertical-align: middle;\n",
              "    }\n",
              "\n",
              "    .dataframe tbody tr th {\n",
              "        vertical-align: top;\n",
              "    }\n",
              "\n",
              "    .dataframe thead th {\n",
              "        text-align: right;\n",
              "    }\n",
              "</style>\n",
              "<table border=\"1\" class=\"dataframe\">\n",
              "  <thead>\n",
              "    <tr style=\"text-align: right;\">\n",
              "      <th></th>\n",
              "      <th>Average episode length (200 episodes)</th>\n",
              "    </tr>\n",
              "  </thead>\n",
              "  <tbody>\n",
              "    <tr>\n",
              "      <th>TD(2) Off-policy Tree Backup</th>\n",
              "      <td>196.605</td>\n",
              "    </tr>\n",
              "    <tr>\n",
              "      <th>TD(3) Off-policy Tree Backup</th>\n",
              "      <td>184.815</td>\n",
              "    </tr>\n",
              "    <tr>\n",
              "      <th>TD(4) Off-policy Tree Backup</th>\n",
              "      <td>200.000</td>\n",
              "    </tr>\n",
              "  </tbody>\n",
              "</table>\n",
              "</div>"
            ],
            "text/plain": [
              "                              Average episode length (200 episodes)\n",
              "TD(2) Off-policy Tree Backup                                196.605\n",
              "TD(3) Off-policy Tree Backup                                184.815\n",
              "TD(4) Off-policy Tree Backup                                200.000"
            ]
          },
          "metadata": {
            "tags": []
          },
          "execution_count": 50
        }
      ]
    },
    {
      "cell_type": "code",
      "metadata": {
        "colab": {
          "base_uri": "https://localhost:8080/",
          "height": 168
        },
        "id": "fma8NK67KpYc",
        "outputId": "aa8a50a4-bd41-4d8d-db06-a839472a33e0"
      },
      "source": [
        "pd.DataFrame(data = [Q_n_SARSA_0_avg,Q_n_SARSA_2_avg,Q_n_SARSA_3_avg,Q_n_SARSA_4_avg], index = ['TD(0) On-policy SARSA','TD(2) On-policy SARSA','TD(3) On-policy SARSA','TD(4) On-policy SARSA'], columns = ['Average episode length (200 episodes)'])"
      ],
      "execution_count": null,
      "outputs": [
        {
          "output_type": "execute_result",
          "data": {
            "text/html": [
              "<div>\n",
              "<style scoped>\n",
              "    .dataframe tbody tr th:only-of-type {\n",
              "        vertical-align: middle;\n",
              "    }\n",
              "\n",
              "    .dataframe tbody tr th {\n",
              "        vertical-align: top;\n",
              "    }\n",
              "\n",
              "    .dataframe thead th {\n",
              "        text-align: right;\n",
              "    }\n",
              "</style>\n",
              "<table border=\"1\" class=\"dataframe\">\n",
              "  <thead>\n",
              "    <tr style=\"text-align: right;\">\n",
              "      <th></th>\n",
              "      <th>Average episode length (200 episodes)</th>\n",
              "    </tr>\n",
              "  </thead>\n",
              "  <tbody>\n",
              "    <tr>\n",
              "      <th>TD(0) On-policy SARSA</th>\n",
              "      <td>175.86</td>\n",
              "    </tr>\n",
              "    <tr>\n",
              "      <th>TD(2) On-policy SARSA</th>\n",
              "      <td>200.00</td>\n",
              "    </tr>\n",
              "    <tr>\n",
              "      <th>TD(3) On-policy SARSA</th>\n",
              "      <td>191.39</td>\n",
              "    </tr>\n",
              "    <tr>\n",
              "      <th>TD(4) On-policy SARSA</th>\n",
              "      <td>162.36</td>\n",
              "    </tr>\n",
              "  </tbody>\n",
              "</table>\n",
              "</div>"
            ],
            "text/plain": [
              "                       Average episode length (200 episodes)\n",
              "TD(0) On-policy SARSA                                 175.86\n",
              "TD(2) On-policy SARSA                                 200.00\n",
              "TD(3) On-policy SARSA                                 191.39\n",
              "TD(4) On-policy SARSA                                 162.36"
            ]
          },
          "metadata": {
            "tags": []
          },
          "execution_count": 54
        }
      ]
    },
    {
      "cell_type": "markdown",
      "metadata": {
        "id": "CXNLUhnsJWKE"
      },
      "source": [
        "The results of Tree backup for TD(2), TD(3), TD(4) are shown in the table above. The TD(3) performed the best with the lowests average episode length (completion time) of the task. TD(2) did also converge although its performance was poorer and nearly 200. TD(4) did not converge and had an average episode length of 200. We noticed there was significantly more variance in the results for TD(2) and even more for TD(4). \n",
        "\n",
        "Our TD(4) n-SARSA model performed the best out of all given each model was using the same discount and learning and rate. Therefore it is the optimal model given the models we have tested and our model hyperparameters. "
      ]
    }
  ]
}